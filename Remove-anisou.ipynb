{
  "nbformat": 4,
  "nbformat_minor": 0,
  "metadata": {
    "colab": {
      "provenance": [],
      "mount_file_id": "1LMrGSBTMRhMdhJuOFiaCHWolAeD1atpa",
      "authorship_tag": "ABX9TyMdNVMp135NLWHkGvCDz/7B",
      "include_colab_link": true
    },
    "kernelspec": {
      "name": "python3",
      "display_name": "Python 3"
    },
    "language_info": {
      "name": "python"
    }
  },
  "cells": [
    {
      "cell_type": "markdown",
      "metadata": {
        "id": "view-in-github",
        "colab_type": "text"
      },
      "source": [
        "<a href=\"https://colab.research.google.com/github/eoinleen/PyMOL/blob/main/Remove-anisou.ipynb\" target=\"_parent\"><img src=\"https://colab.research.google.com/assets/colab-badge.svg\" alt=\"Open In Colab\"/></a>"
      ]
    },
    {
      "cell_type": "code",
      "execution_count": 1,
      "metadata": {
        "colab": {
          "base_uri": "https://localhost:8080/"
        },
        "id": "RV4_E-d86Bp2",
        "outputId": "785c5616-878d-4086-df85-c7015d4ec1c9"
      },
      "outputs": [
        {
          "output_type": "stream",
          "name": "stdout",
          "text": [
            "Drive already mounted at /content/drive; to attempt to forcibly remount, call drive.mount(\"/content/drive\", force_remount=True).\n",
            "Done! Output saved to: /content/drive/MyDrive/PDB-files/5lrv_evo_v3_renumbered-mod.pdb\n"
          ]
        }
      ],
      "source": [
        "from google.colab import drive\n",
        "drive.mount('/content/drive')  # Mount your Google Drive\n",
        "\n",
        "# Replace this with the path to your PDB file in your Drive\n",
        "input_pdb_path = '/content/drive/MyDrive/PDB-files/5lrv_evo_v3_renumbered.pdb'\n",
        "output_pdb_path = '/content/drive/MyDrive/PDB-files/5lrv_evo_v3_renumbered-mod.pdb'\n",
        "\n",
        "# Remove ANISOU lines\n",
        "with open(input_pdb_path, 'r') as infile, open(output_pdb_path, 'w') as outfile:\n",
        "    for line in infile:\n",
        "        if not line.startswith('ANISOU'):\n",
        "            outfile.write(line)\n",
        "\n",
        "print(f\"Done! Output saved to: {output_pdb_path}\")\n"
      ]
    }
  ]
}